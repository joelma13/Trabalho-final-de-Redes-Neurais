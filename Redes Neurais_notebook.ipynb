{
 "cells": [
  {
   "cell_type": "code",
   "execution_count": null,
   "metadata": {},
   "outputs": [],
   "source": []
  },
  {
   "cell_type": "markdown",
   "metadata": {},
   "source": [
    "Trabalho de Redes Neurais e Aprendizado Profundo\n",
    "\n",
    "Professor: Agnaldo \n",
    "\n",
    "Aluna: Joelma de Fátima Rodrigues Batista Freitas"
   ]
  },
  {
   "cell_type": "markdown",
   "metadata": {},
   "source": [
    "# 1. O que é inteligência para você(s)?\n",
    "Para mim, inteligência é a condição de aprender e a partir do que aprendeu passar a desenvolver e também a ensinar a outras pessoas o assunto ou conteúdo de domínio.  \n",
    "Já a inteligência artificial são máquinas, programas, softwares, aplicativos que dotamos de conhecimento prévio e que a partir daí são instrumentos treinados para aprender e desenvolver em muitas áreas do conhecimento, numa extensão (volume) muito maior do ser humano pode suportar; e que vai variar conforme a memória de cada instrumento. \n"
   ]
  },
  {
   "cell_type": "markdown",
   "metadata": {},
   "source": [
    "# 2. Em sua opinião (ou na do grupo), o que aconteceria se alguém descobrisse como implementar uma IA\n",
    "mais abrangente (e.g., AGI) em um robô?\n",
    "Faria deste robô um instrumento de estudo para novas invenções. Pois, em minha opinião, as máquinas devem ficar sempre com a parte mais bruta de um trabalho, seja ela programas ou serviços mecânicos, já para o ser humano ficaria a cargo de alimentar as máquinas de informações e analisar resultados. Estabelecendo o que cabe a cada um teríamos uma  pareceria entre homem e máquina com mais eficiência e também eficácia nas resoluções de demandas. Lembrando que o homem não deve ser jamais substituído.\n"
   ]
  },
  {
   "cell_type": "markdown",
   "metadata": {},
   "source": [
    "# 3. A partir da análise de um processo de destilação fracionada de petróleo observou-se que determinado óleo\n",
    "poderia ser classificado em duas classes de pureza {C1 e C2}, mediante a medição de três grandezas {x1\n",
    ", x2\n",
    "e x3} que representam algumas das propriedades físico-químicas do óleo. Para tanto, pretende-se utilizar um\n",
    "perceptron para executar a classificação automática dessas duas classes. Assim, baseadas nas informações\n",
    "coletadas do processo, formou-se o conjunto de treinamento em anexo1\n",
    ", tomando por convenção o valor –1\n",
    "para óleo pertencente à classe C1 e o valor +1 para óleo pertencente à classe C2.\n"
   ]
  },
  {
   "cell_type": "code",
   "execution_count": 4,
   "metadata": {},
   "outputs": [
    {
     "name": "stdout",
     "output_type": "stream",
     "text": [
      "Collecting numpy\n",
      "  Downloading numpy-1.25.2-cp311-cp311-win_amd64.whl (15.5 MB)\n",
      "                                              0.0/15.5 MB ? eta -:--:--\n",
      "                                             0.0/15.5 MB 640.0 kB/s eta 0:00:25\n",
      "                                             0.1/15.5 MB 980.4 kB/s eta 0:00:16\n",
      "                                              0.2/15.5 MB 1.7 MB/s eta 0:00:09\n",
      "     -                                        0.4/15.5 MB 2.1 MB/s eta 0:00:08\n",
      "     --                                       0.8/15.5 MB 3.3 MB/s eta 0:00:05\n",
      "     ---                                      1.3/15.5 MB 4.6 MB/s eta 0:00:04\n",
      "     ---                                      1.3/15.5 MB 4.6 MB/s eta 0:00:04\n",
      "     ----                                     1.9/15.5 MB 5.1 MB/s eta 0:00:03\n",
      "     -------                                  3.1/15.5 MB 7.3 MB/s eta 0:00:02\n",
      "     -------                                  3.1/15.5 MB 7.3 MB/s eta 0:00:02\n",
      "     ---------                                3.7/15.5 MB 7.1 MB/s eta 0:00:02\n",
      "     ------------                             4.8/15.5 MB 8.4 MB/s eta 0:00:02\n",
      "     -------------                            5.3/15.5 MB 8.7 MB/s eta 0:00:02\n",
      "     ---------------                          5.9/15.5 MB 8.9 MB/s eta 0:00:02\n",
      "     ----------------                         6.5/15.5 MB 9.2 MB/s eta 0:00:01\n",
      "     ------------------                       7.0/15.5 MB 9.4 MB/s eta 0:00:01\n",
      "     -------------------                      7.6/15.5 MB 9.3 MB/s eta 0:00:01\n",
      "     --------------------                     8.2/15.5 MB 9.5 MB/s eta 0:00:01\n",
      "     ----------------------                   8.7/15.5 MB 9.6 MB/s eta 0:00:01\n",
      "     -----------------------                  9.3/15.5 MB 9.7 MB/s eta 0:00:01\n",
      "     -------------------------                9.9/15.5 MB 9.8 MB/s eta 0:00:01\n",
      "     --------------------------              10.4/15.5 MB 10.9 MB/s eta 0:00:01\n",
      "     ---------------------------             10.9/15.5 MB 11.7 MB/s eta 0:00:01\n",
      "     ----------------------------            11.5/15.5 MB 11.7 MB/s eta 0:00:01\n",
      "     ------------------------------          12.1/15.5 MB 12.6 MB/s eta 0:00:01\n",
      "     -------------------------------         12.6/15.5 MB 12.1 MB/s eta 0:00:01\n",
      "     ---------------------------------       13.2/15.5 MB 11.7 MB/s eta 0:00:01\n",
      "     ----------------------------------      13.8/15.5 MB 12.6 MB/s eta 0:00:01\n",
      "     -----------------------------------     14.3/15.5 MB 12.1 MB/s eta 0:00:01\n",
      "     -------------------------------------   14.9/15.5 MB 11.9 MB/s eta 0:00:01\n",
      "     --------------------------------------  15.5/15.5 MB 11.9 MB/s eta 0:00:01\n",
      "     --------------------------------------  15.5/15.5 MB 11.9 MB/s eta 0:00:01\n",
      "     --------------------------------------  15.5/15.5 MB 11.9 MB/s eta 0:00:01\n",
      "     --------------------------------------  15.5/15.5 MB 11.9 MB/s eta 0:00:01\n",
      "     --------------------------------------  15.5/15.5 MB 11.9 MB/s eta 0:00:01\n",
      "     ---------------------------------------- 15.5/15.5 MB 9.6 MB/s eta 0:00:00\n",
      "Installing collected packages: numpy\n",
      "Successfully installed numpy-1.25.2\n",
      "Note: you may need to restart the kernel to use updated packages.\n"
     ]
    },
    {
     "name": "stderr",
     "output_type": "stream",
     "text": [
      "\n",
      "[notice] A new release of pip is available: 23.1.2 -> 23.2.1\n",
      "[notice] To update, run: python.exe -m pip install --upgrade pip\n"
     ]
    }
   ],
   "source": [
    "pip install numpy"
   ]
  },
  {
   "cell_type": "code",
   "execution_count": 2,
   "metadata": {},
   "outputs": [],
   "source": [
    "import numpy as np\n"
   ]
  },
  {
   "cell_type": "code",
   "execution_count": 10,
   "metadata": {},
   "outputs": [
    {
     "name": "stdout",
     "output_type": "stream",
     "text": [
      "Treinamento 1: Pesos finais = [-1.0402665   6.08438937 -2.06345662], Bias final = 1.9448831829968969\n",
      "Treinamento 2: Pesos finais = [-1.256578    6.19296449 -1.71944563], Bias final = 1.9023325726318394\n"
     ]
    }
   ],
   "source": [
    "# Dados de treinamento \n",
    "\n",
    "x1_data =[-0.3565, -0.7842, 0.3012, 0.7757, 0.1570, -0.7014, 0.3748, -0.6920, -1.3970, -1.8842]\n",
    "x2_data =[0.0620, 1.1267, 0.5611, 1.0648, 0.8028, 1.0316, 0.1536, 0.9404, 0.7141, -0.2805]\n",
    "x3_data =[5.9891, 5.5912, 5.8234, 8.0677, 6.3040, 3.6005, 6.1537, 4.4058, 4.9263, 1.2548]\n",
    "c1 = -1\n",
    "c2 = 1\n",
    "\n",
    "X= np.array([[x1, x2, x3] for x1, x2, x3 in zip(x1_data, x2_data, x3_data)])\n",
    "y = np.array([c1, c2] * (X.shape[0] // 2)) # Duas classes c1 e c2\n",
    "\n",
    "# Número de características de entrada\n",
    "input_size = X.shape[1]\n",
    "\n",
    "# Número de neurônios na camada de saída (neste caso, 1, porque é um Perceptron)\n",
    "output_size = 1\n",
    "\n",
    "# Número de treinamentos\n",
    "num_trainings = 2\n",
    "\n",
    "for training in range(num_trainings):\n",
    "    # Inicialização aleatória dos pesos\n",
    "    np.random.seed(training)  # Para garantir que os pesos iniciais não sejam os mesmos\n",
    "    w = np.random.rand(input_size)\n",
    "\n",
    "    # Bias\n",
    "    b = np.random.rand()\n",
    "\n",
    "    # Taxa de aprendizado (learning rate)\n",
    "    lr = 0.1\n",
    "\n",
    "    # Número de épocas (quantidade de vezes que o treinamento será executado)\n",
    "    epochs = 100\n",
    "\n",
    "    # Função de ativação (função degrau)\n",
    "    def activate(x):\n",
    "        return 1 if x >= 0 else -1\n",
    "\n",
    "    # Treinamento do Perceptron\n",
    "    for _ in range(epochs):\n",
    "        for i in range(X.shape[0]):\n",
    "            # Saída do Perceptron\n",
    "            z = np.dot(X[i], w) + b\n",
    "            a = activate(z)\n",
    "\n",
    "            # Atualização dos pesos e bias\n",
    "            w += lr * (y[i] - a) * X[i]\n",
    "            b += lr * (y[i] - a)\n",
    "\n",
    "    # Imprima os pesos finais para cada treinamento\n",
    "    print(f\"Treinamento {training + 1}: Pesos finais = {w}, Bias final = {b}\")\n",
    "    \n",
    "\n"
   ]
  },
  {
   "cell_type": "markdown",
   "metadata": {},
   "source": [
    "9. Procure na literatura 2 artigos que tratem do tema Sensores Inferenciais (ou Soft Sensors) para uma\n",
    "dada grandeza de seu interesse (e.g. temperatura, pressão, vazão, nível etc.) e que tenham sido\n",
    "publicados nos últimos 5 anos. Explique de forma sucinta o que foi desenvolvido pelos autores,\n",
    "referenciando-os. Sugestão: As principais informações de qualquer artigo geralmente se encontram no\n",
    "título, no resumo e nas conclusões. Ao ler esses três itens, o leitor tem uma boa ideia do que esperar\n",
    "daquele trabalho. A propósito, usualmente o leitor decidirá se lerá todo o artigo ou não com base na sua\n",
    "impressão a respeito desses três itens.\n"
   ]
  },
  {
   "cell_type": "markdown",
   "metadata": {},
   "source": [
    "O primeiro artigo  escolhido foi: ROCHA, Joilane S.; PERCI, Yasmin M.; SOARES, Gabryel F.; JÚNIOR, Jose M. A. Inferência da Temperatura Interna em uma Incubadora Neonatal Utilizando Redes Neurais Artificiais. In: Anais da VIII Escola Regional de Computação do Ceará, Maranhão e Piauí (ERCEMAPI), 1, 2020. Disponível em: <https://sol.sbc.org.br/index.php/ercemapi/article/view/11486>. Acesso em 16 de out 2023. O artigo traz informações de um sistemade inferência neural obtido a partir de redes neurais artificiais (RNA) do tipo MultiLayer Perceptron (MLP), treinada com base na estrutura Neural Network with Finite Inpulse Response (NNfir),  que foi utilizado com sensor virtual. O espaço utilizado para esta pesquisa foi a incubadora neonatal que consiste em um equipamento hospitalar que proporciona condições de temperatura adequadas ao recém-nascido. "
   ]
  },
  {
   "cell_type": "markdown",
   "metadata": {},
   "source": [
    "O segundo artigo: WERNER, Emilio; BEREJUCK, Marcelo Daniel; BEZERRA, Poliana Penasso. Utilização de Sensores Para a Avaliação da Bradicinesia em Parkinsonianos. In: XVI Congresso Brasileiro de Informática em Saúde, 2018, Fortaleza/CE. Disponível em: <https://ojs.brazilianjournals.com.br/ojs/index.php/BJHR/article/view/1601>. Acesso em 16 de out 2023. O objetivo do trabalho foi de escrever  a  efetividade  da  utilização  de  uma  ferramenta  eletrônica  baseado  em sensores  inerciais  a  qual  tem  como  objetivo  dar  suporte  na  avaliação  inicial  da  bradicinesia em  pessoas  com  a  doença  de  Parkinson.  Método:  Criação  de  um  protótipo  utilizando  os sensores do tipo acelerômetro e giroscópio com uma placa de Arduino para uma avaliação da bradicinesia  durante  uma  tarefa  motora.  Resultado:  Observou-se  que  os  sensores  conseguem fazer uma captura precisa dos movimentos ao realizar uma atividade motora, os quais podem assim compor um sistema capaz de quantificar a bradicinesia. Conclusão: Verificou-se que o uso  de  sensores  inerciais  pode  ser  de  grande  utilidade  na  composição  de  dispositivos tecnológicos que auxiliam na avaliação inicial de bradicinesia em parkinsonianos. "
   ]
  }
 ],
 "metadata": {
  "kernelspec": {
   "display_name": "Python 3",
   "language": "python",
   "name": "python3"
  },
  "language_info": {
   "codemirror_mode": {
    "name": "ipython",
    "version": 3
   },
   "file_extension": ".py",
   "mimetype": "text/x-python",
   "name": "python",
   "nbconvert_exporter": "python",
   "pygments_lexer": "ipython3",
   "version": "3.11.4"
  },
  "orig_nbformat": 4
 },
 "nbformat": 4,
 "nbformat_minor": 2
}
